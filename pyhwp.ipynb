{
 "cells": [
  {
   "cell_type": "code",
   "execution_count": 1,
   "metadata": {
    "scrolled": true
   },
   "outputs": [],
   "source": [
    "# !pip install pyhwp"
   ]
  },
  {
   "cell_type": "code",
   "execution_count": 2,
   "metadata": {},
   "outputs": [],
   "source": [
    "# hwp5odt [options] [--embed-image] <hwp5file> \n",
    "# hwp5odt [options] --styles <hwp5file> \n",
    "# hwp5odt [options] --content [--embed-image] <hwp5file> \n",
    "# hwp5odt [options] --document [--no-embed-image] <hwp5file> \n",
    "# hwp5odt -h | --help hwp5odt --version"
   ]
  },
  {
   "cell_type": "code",
   "execution_count": 1,
   "metadata": {},
   "outputs": [],
   "source": [
    "# ! hwp5odt --document --no-embed-image \"G:\\sync\\TOPCIT\\출제\\2019년\\첨부5. [TOPCIT] 문제출제 메뉴얼.hwp\""
   ]
  },
  {
   "cell_type": "code",
   "execution_count": 2,
   "metadata": {},
   "outputs": [],
   "source": [
    "# hwp5html [options] <hwp5file> [<out-directory>] \n",
    "# hwp5html -h | --help \n",
    "# hwp5html --version"
   ]
  },
  {
   "cell_type": "code",
   "execution_count": 1,
   "metadata": {},
   "outputs": [],
   "source": [
    "!hwp5html  \"test.hwp\""
   ]
  },
  {
   "cell_type": "code",
   "execution_count": 2,
   "metadata": {},
   "outputs": [],
   "source": [
    "# hwp5txt [options] <hwp5file> \n",
    "# hwp5txt -h | --help \n",
    "# hwp5txt --version"
   ]
  },
  {
   "cell_type": "code",
   "execution_count": 3,
   "metadata": {},
   "outputs": [],
   "source": [
    "#! hwp5txt \"G:\\sync\\TOPCIT\\출제\\2019년\\첨부5. [TOPCIT] 문제출제 메뉴얼.hwp\""
   ]
  },
  {
   "cell_type": "code",
   "execution_count": 4,
   "metadata": {},
   "outputs": [],
   "source": [
    "from html.parser import HTMLParser"
   ]
  },
  {
   "cell_type": "code",
   "execution_count": 5,
   "metadata": {},
   "outputs": [],
   "source": [
    "class MyHTMLParser(HTMLParser):\n",
    "    contents = []\n",
    "    isBody = False\n",
    "    def handle_starttag(self, tag, attrs):\n",
    "        if 'body' in tag:\n",
    "            self.isBody = True\n",
    "            \n",
    "\n",
    "#     def handle_endtag(self, tag):\n",
    "#         print(\"Encountered an end tag :\", tag)\n",
    "\n",
    "#     def handle_data(self, data):\n",
    "#         print(\"Encountered some data  :\", data)\n",
    "    \n",
    "    def handle_data(self, data):\n",
    "        if self.isBody:\n",
    "            self.contents.append(data)\n",
    "\n",
    "parser = MyHTMLParser()"
   ]
  },
  {
   "cell_type": "code",
   "execution_count": 7,
   "metadata": {},
   "outputs": [],
   "source": [
    "with open('./test/index.xhtml', encoding='utf8') as xhtml:\n",
    "    parser.feed(''.join(xhtml.readlines()))    "
   ]
  },
  {
   "cell_type": "code",
   "execution_count": 8,
   "metadata": {},
   "outputs": [
    {
     "data": {
      "text/plain": [
       "'예상1. IT 거버넌스의 개념 체계\\r기업 거버넌스는 기업의 목적과 연계시키기 위한 기업 통제, 지휘, 보고의 체계이다. 기업의 행동규범, 위험관리, 이해관계자에게 가치전달 책임 등을 규정하고 있습니다.\\rIT거버넌스는 기업거버넌스에 IT를 전략적으로 연계시켜 가치창출, 위험관리등을 지원하며 이러한 IT거버넌스의 책임은 이사회/경영진에게 있습니다.\\rIT 거버넌스를 효과적으로 수행하기 위해서는 가장 먼저 기업의 비즈니스 전략을 제대로 파악해야하고, 비즈니스 전략을 지원하기 위한 IT 전략을 알아야 하고, 둘을 적절하게 연계시켜야 합니다.  것이 T거버넌스의 핵심 역할이라고 말할 수 있습니다.\\rIT 거버넌스와 관련하여 COBIT 프레임워크가 있음.\\r지금부터 IT 거버넌스의 5가지 영역을 살펴 보겠습니다.\\r전략적 연계 : 이해 관계자들이 원하는 것이 무엇인지 가치 분석을 통해 기업의 비즈니스와 IT 를 전략적으로 연계시키는 것입니다. \\r가치 전달 : 투자의 최적화/이익 극대화를 통해 이익을 창출함으로써 가치를 제공하는 것을 뜻합니다.\\r자원 관리 : 자원이 없다면 IT 전략의 실행이 불가능해지고 궁극적으로 비즈니스 목표 달성도 어렵게 되기 때문에 자원의 적절한 투자/재투자가 필요하고, 자원이 책임있게 사용되도록 관리하는 것입니다.(--> 책임 추적성) \\r위험 관리 : 위험은 항상 존재하는 것입니다. 위험이 \"0\" 이 될 수는 없다는 말입니다. 위험은 제거의 대상이 아니라 관리의 대상인 것입니다. 위험 관리라고 하는 것은 위험을 적절한 수준으로 (조직이 받아들일 수 있는(수용할 수 있는) 수준) 관리하는 것을 의미합니다.  예를 들어 지속적인 기업의 운영에 큰 영향을 미칠 정도의 위험 수준을 10 이라고 한다면 기업의 위험 준이 10 이하로 떨어지지 않게 관리하는 것이 위험 관리입니다. 최대한 위험을 낮출 수 있을만큼 낮추는 것이 좋은 게 아니냐 하고 의아해 할 수도 있는데, 만약 어떤 위험이 닥쳤을 때 손실액은 1억인데 비해, 그 위험을 관리하는 데 소요되는 비용이 2 억이라면...차라리 위험을 감수하는 편이 경제적으로는 더 나은 선택이 되겠죠.\\r참고로 기업에서 수용할 수 있는 위험 수준을 ALR(Acceptable Level of Risk) 라고 합니다.\\r성과 측정 : 모든 일을 하고 난 후에는 반드시 성과를 측정해야 합니다. 단순히 측정 자체에 의미가 있는 것이 아니고 성과 측정을 통해 +/- 를 구분하고, 다음에는 어디에 좀 더 재투자를 할 지, 덜 투자할 것인지 등의 계획을 세우고 관리가 가능하게 해주는 것입니다. \\r위의 각 영역은 독립된 레벨로 단기적으로 수행되는 것이 아니라 PDCA 사이클을 기반으로 순환하며 실행됩니다.\\rPlan(계획) - Do(실행) - Check(성과츨정) - Action(반영)\\r예상2. IT거버넌스를 도입하는 이유?\\r운용의 효율화과 비즈니스 지원효과를 극대화를 통해 기업의 전략과 목표를 달성하기 위해서 도입한다.\\r예상2. ISP의 약어와 의미\\rISP = Information System Planing\\rInternet Service Provider 의 개념과 다름(ex. KT, SK, 파워콤 및 웹서비스 업체)\\r정보시스템 계획을 수립하기 위한 방법론중의 하나로 기업의 문제를 진단하여 개선요구를 바탕으로 정보화추진 방향으로 업무체계를 정립하고 정보화 체계를 수립하는 것.\\r즉 최적의 정보화를 추진해 나가기 위한 중장기전략계획을 수립하는 과정.\\r예상3. ISP 수립 배경\\r- 경영환경의 변화 : 지식과 정보가 중심이 되는 사회로 변화, 글로벌화, 무한경쟁시대\\r- IT는 기업생존에 필수요소가 되었으며 비용이 아닌 투자로 인식\\r- 경영과 정보기술의 통합 : TCO, ERP, XML, CMS, DW의 도입을 통한 경영혁신으로 기\\t\\t\\t   업경쟁력 강화\\r* TCO : Total Cost Ownership (싼게 비지떡이다.)\\r아무리 값이 저렴한 제품을 구입하더라도 장기적으로 유지보수 비용이 많이 발생할 여지가 많을 경우 적정가격에 좋은 품질의 제품을 구매하여 차후 비용을 감소시키는 것이 더 현명하다.\\r예상4. ISP의 필요성, 기대효과, 성공요인\\r* 필요성\\r정보시스템이 기업의 경영전략 및 목표를 지원\\r글로벌 경쟁력 강호를 위해 경영과 연계된 IT전략 수립\\r통합된 정보시스템(ERP) 구축에 대한 타당성 검토 및 체계 제공\\r* 기대효과\\r [정보화측면]\\r전사정보화 마인드의 향상\\r중장기 정보화 추진의 지침서로 활용\\r원활한 커뮤니케이션 제공\\r운영중인 정보시스템의 개선을 통한 활용도 제고\\r [경영측면]\\rIT를 통한 신사업 창출의 기회 제공\\r체계적인 분석을 통해 사업의 우선순위 선정 가능\\r핵심사업분석을 통한 전략 과제 도출 가능\\r* 성공요인\\r최고 경영층의 참여 및 지원 / 명확한 비즈니스 전략의 설정 / 기술보다 비즈니스의 우선접근 \\r[정보기술을 많이 활용하지만 경영(비지니스)기술이 부족한 기업은 실패할 가능성이 매우 높다]\\r예상5. ISP 과정 중 정보요구분석단계의 BSP와 CSF\\rBSP : Business Systems Planing \\rCSF : Critical Success Factors\\r\\rBSP\\rCSF\\r정의\\r전사적 분석법\\r조직의 장단기 정보요구를 분석\\r응용시스템 현황을 파악하여 정리\\r핵심성공요인 파악법\\r기업 간의 경쟁에서 성공적 위치를 점할 수 있도록 보장해주는 제한 된 수의 요인 또는 활동영역 \\r장점\\r조직을 전반적으로 분석할 수 있음\\r문서화된 다양한 산출물존재\\r조직을 깊이 이해하고 다양한 정보요구를 종합적으로 파악\\r미래지향적인 정보요구 도출\\r기존의 응용시스템 평가 가능\\r단점\\r비용과 시간이 많이 소요\\r미래보다는 현재 중심의 정보요구 분석\\rCSF와 무관한 영역의 정보요구 분석의 어려움\\r포괄적인 정보요구 분석 불가능\\r방향\\r상향식 방법론\\r하향식 방법론\\r예상6. ISP의 한계를 극복하기 위한 EAP, ITA/EA 개념\\rISP의 한계 \\r\\t정보화 투자와 관리에 대한 전사적 관점에서의 원칙 및 기준 미비\\r\\t경영전략과 정보기술 전략이 상호 연계되지 못함\\r\\t정보시스템 계획이 개별 프로젝트 접근방식으로 추진 됨\\r\\t환경변화에 적응할 수 있는 정보시스템의 유연성을 확보하는 문제 등에 대한 대처 미흡\\rEAP : Enterprise Architecture Planing\\r\\tEA/ITA를 수립하는 활동\\r\\tISP가 진화된 개념\\rEA : Enterprise Architecture\\r정의 : 조직의 전략적인 목표 및 정보자원 관리 목표를 도달하기 위하여 기업의 IT와 비즈니스 \\t관계를 총괄하여 설명하는 청사진이자 정보기술 자원의 획득, 구현, 관리를 체계적으로 \\t지원해 주는 표준, 정책, 지침 등의 집합\\r일정한 기준과 절차에 따라 조직 전체의 정보화 구성요소들을 통합적으로 분석한 뒤 이들 간의 관계를 구조적으로 정리한 체제. 이를 바탕으로 정보시스템을 효율적으로 구성하기 위한 방법\\rITA : Information Technology Architecture\\r정의 : EA를 포괄하는 개념\\r\\t조직의 전략적 목표와 정보자원관리 목표를 달성하기 위해 새로운 정보기술 유지, 진\\t화시키기 위한 통합 프레임워크\\r\\r예상7. ISP와 EA/ITA 비교\\r\\r\\t\\rISP는 특정 혹은 개별 프로젝트의 추진과 완료에 한정되어 있는 반면, ITA/EA는 아키텍처를 강조하고 기술체계를 보다 상세하게 표한하면서 아키텍처를 지속적으로 개선해 나가는 것이 큰 차이다.\\r예상9. ITA/EA의 구성요소\\r업무 아키텍처\\r\\t조직의 미션, 비전, 목표를 달성하기 위한 업무를 파악\\r데이터 아키텍처\\r\\t업무프로세스에 활용되는 데이터 분석\\r응용 아키텍처 \\r\\t업무프로세스를 지원하기 위한 정보시스템을 파악하고 관리하는 활동\\r기술기반 아키텍처\\r\\t하드웨어, 소프트웨어, 네트워크 등의 구성요소 표현\\r\\t정보기술의 특성 및 가용성 분석\\r예상10. 시나리오 정리\\r착수 -> 환경분석 -> 업무분석 -> 정보구조설계 -> 실행계획 -> 종료\\rDIMS : Dynamic ISP Methodology for Small & Medium Enterprise \\r중소기업을 위한 ISP 방법론\\r기술측면 < 경영측면\\r개발 보다는 패키지 소프트웨어 도입\\r\\t\\r'"
      ]
     },
     "execution_count": 8,
     "metadata": {},
     "output_type": "execute_result"
    }
   ],
   "source": [
    "text = ''.join(parser.contents)\n",
    "text"
   ]
  },
  {
   "cell_type": "code",
   "execution_count": 9,
   "metadata": {},
   "outputs": [
    {
     "data": {
      "text/plain": [
       "'예상1  IT 거버넌스의 개념 체계 기업 거버넌스는 기업의 목적과 연계시키기 위한 기업 통제  지휘  보고의 체계이다  기업의 행동규범  위험관리  이해관계자에게 가치전달 책임 등을 규정하고 있습니다 IT거버넌스는 기업거버넌스에 IT를 전략적으로 연계시켜 가치창출  위험관리등을 지원하며 이러한 IT거버넌스의 책임은 이사회 경영진에게 있습니다 IT 거버넌스를 효과적으로 수행하기 위해서는 가장 먼저 기업의 비즈니스 전략을 제대로 파악해야하고  비즈니스 전략을 지원하기 위한 IT 전략을 알아야 하고  둘을 적절하게 연계시켜야 합니다   것이 T거버넌스의 핵심 역할이라고 말할 수 있습니다 IT 거버넌스와 관련하여 COBIT 프레임워크가 있음 지금부터 IT 거버넌스의 5가지 영역을 살펴 보겠습니다 전략적 연계   이해 관계자들이 원하는 것이 무엇인지 가치 분석을 통해 기업의 비즈니스와 IT 를 전략적으로 연계시키는 것입니다   가치 전달   투자의 최적화 이익 극대화를 통해 이익을 창출함으로써 가치를 제공하는 것을 뜻합니다 자원 관리   자원이 없다면 IT 전략의 실행이 불가능해지고 궁극적으로 비즈니스 목표 달성도 어렵게 되기 때문에 자원의 적절한 투자 재투자가 필요하고  자원이 책임있게 사용되도록 관리하는 것입니다  책임 추적성   위험 관리   위험은 항상 존재하는 것입니다  위험이  0  이 될 수는 없다는 말입니다  위험은 제거의 대상이 아니라 관리의 대상인 것입니다  위험 관리라고 하는 것은 위험을 적절한 수준으로  조직이 받아들일 수 있는 수용할 수 있는  수준  관리하는 것을 의미합니다   예를 들어 지속적인 기업의 운영에 큰 영향을 미칠 정도의 위험 수준을 10 이라고 한다면 기업의 위험 준이 10 이하로 떨어지지 않게 관리하는 것이 위험 관리입니다  최대한 위험을 낮출 수 있을만큼 낮추는 것이 좋은 게 아니냐 하고 의아해 할 수도 있는데  만약 어떤 위험이 닥쳤을 때 손실액은 1억인데 비해  그 위험을 관리하는 데 소요되는 비용이 2 억이라면 차라리 위험을 감수하는 편이 경제적으로는 더 나은 선택이 되겠죠 참고로 기업에서 수용할 수 있는 위험 수준을 ALR Acceptable Level of Risk  라고 합니다 성과 측정   모든 일을 하고 난 후에는 반드시 성과를 측정해야 합니다  단순히 측정 자체에 의미가 있는 것이 아니고 성과 측정을 통해   를 구분하고  다음에는 어디에 좀 더 재투자를 할 지  덜 투자할 것인지 등의 계획을 세우고 관리가 가능하게 해주는 것입니다   위의 각 영역은 독립된 레벨로 단기적으로 수행되는 것이 아니라 PDCA 사이클을 기반으로 순환하며 실행됩니다 Plan 계획    Do 실행    Check 성과츨정    Action 반영 예상2  IT거버넌스를 도입하는 이유 운용의 효율화과 비즈니스 지원효과를 극대화를 통해 기업의 전략과 목표를 달성하기 위해서 도입한다 예상2  ISP의 약어와 의미 ISP   Information System Planing Internet Service Provider 의 개념과 다름 ex  KT  SK  파워콤 및 웹서비스 업체 정보시스템 계획을 수립하기 위한 방법론중의 하나로 기업의 문제를 진단하여 개선요구를 바탕으로 정보화추진 방향으로 업무체계를 정립하고 정보화 체계를 수립하는 것 즉 최적의 정보화를 추진해 나가기 위한 중장기전략계획을 수립하는 과정 예상3  ISP 수립 배경  경영환경의 변화   지식과 정보가 중심이 되는 사회로 변화  글로벌화  무한경쟁시대  IT는 기업생존에 필수요소가 되었으며 비용이 아닌 투자로 인식  경영과 정보기술의 통합   TCO  ERP  XML  CMS  DW의 도입을 통한 경영혁신으로 기    업경쟁력 강화  TCO   Total Cost Ownership  싼게 비지떡이다 아무리 값이 저렴한 제품을 구입하더라도 장기적으로 유지보수 비용이 많이 발생할 여지가 많을 경우 적정가격에 좋은 품질의 제품을 구매하여 차후 비용을 감소시키는 것이 더 현명하다 예상4  ISP의 필요성  기대효과  성공요인  필요성 정보시스템이 기업의 경영전략 및 목표를 지원 글로벌 경쟁력 강호를 위해 경영과 연계된 IT전략 수립 통합된 정보시스템 ERP  구축에 대한 타당성 검토 및 체계 제공  기대효과   정보화측면 전사정보화 마인드의 향상 중장기 정보화 추진의 지침서로 활용 원활한 커뮤니케이션 제공 운영중인 정보시스템의 개선을 통한 활용도 제고   경영측면 IT를 통한 신사업 창출의 기회 제공 체계적인 분석을 통해 사업의 우선순위 선정 가능 핵심사업분석을 통한 전략 과제 도출 가능  성공요인 최고 경영층의 참여 및 지원   명확한 비즈니스 전략의 설정   기술보다 비즈니스의 우선접근  정보기술을 많이 활용하지만 경영 비지니스 기술이 부족한 기업은 실패할 가능성이 매우 높다 예상5  ISP 과정 중 정보요구분석단계의 BSP와 CSF BSP   Business Systems Planing  CSF   Critical Success Factors BSP CSF 정의 전사적 분석법 조직의 장단기 정보요구를 분석 응용시스템 현황을 파악하여 정리 핵심성공요인 파악법 기업 간의 경쟁에서 성공적 위치를 점할 수 있도록 보장해주는 제한 된 수의 요인 또는 활동영역  장점 조직을 전반적으로 분석할 수 있음 문서화된 다양한 산출물존재 조직을 깊이 이해하고 다양한 정보요구를 종합적으로 파악 미래지향적인 정보요구 도출 기존의 응용시스템 평가 가능 단점 비용과 시간이 많이 소요 미래보다는 현재 중심의 정보요구 분석 CSF와 무관한 영역의 정보요구 분석의 어려움 포괄적인 정보요구 분석 불가능 방향 상향식 방법론 하향식 방법론 예상6  ISP의 한계를 극복하기 위한 EAP  ITA EA 개념 ISP의 한계  정보화 투자와 관리에 대한 전사적 관점에서의 원칙 및 기준 미비 경영전략과 정보기술 전략이 상호 연계되지 못함 정보시스템 계획이 개별 프로젝트 접근방식으로 추진 됨 환경변화에 적응할 수 있는 정보시스템의 유연성을 확보하는 문제 등에 대한 대처 미흡 EAP   Enterprise Architecture Planing EA ITA를 수립하는 활동 ISP가 진화된 개념 EA   Enterprise Architecture 정의   조직의 전략적인 목표 및 정보자원 관리 목표를 도달하기 위하여 기업의 IT와 비즈니스  관계를 총괄하여 설명하는 청사진이자 정보기술 자원의 획득  구현  관리를 체계적으로  지원해 주는 표준  정책  지침 등의 집합 일정한 기준과 절차에 따라 조직 전체의 정보화 구성요소들을 통합적으로 분석한 뒤 이들 간의 관계를 구조적으로 정리한 체제  이를 바탕으로 정보시스템을 효율적으로 구성하기 위한 방법 ITA   Information Technology Architecture 정의   EA를 포괄하는 개념 조직의 전략적 목표와 정보자원관리 목표를 달성하기 위해 새로운 정보기술 유지  진 화시키기 위한 통합 프레임워크 예상7  ISP와 EA ITA 비교 ISP는 특정 혹은 개별 프로젝트의 추진과 완료에 한정되어 있는 반면  ITA EA는 아키텍처를 강조하고 기술체계를 보다 상세하게 표한하면서 아키텍처를 지속적으로 개선해 나가는 것이 큰 차이다 예상9  ITA EA의 구성요소 업무 아키텍처 조직의 미션  비전  목표를 달성하기 위한 업무를 파악 데이터 아키텍처 업무프로세스에 활용되는 데이터 분석 응용 아키텍처  업무프로세스를 지원하기 위한 정보시스템을 파악하고 관리하는 활동 기술기반 아키텍처 하드웨어  소프트웨어  네트워크 등의 구성요소 표현 정보기술의 특성 및 가용성 분석 예상10  시나리오 정리 착수   환경분석   업무분석   정보구조설계   실행계획   종료 DIMS   Dynamic ISP Methodology for Small   Medium Enterprise  중소기업을 위한 ISP 방법론 기술측면   경영측면 개발 보다는 패키지 소프트웨어 도입 '"
      ]
     },
     "execution_count": 9,
     "metadata": {},
     "output_type": "execute_result"
    }
   ],
   "source": [
    "import re\n",
    "escape = re.compile('[^ a-zA-Z0-9\\u3131-\\u3163\\uac00-\\ud7a3]+')\n",
    "text = escape.sub(' ', text)\n",
    "text"
   ]
  },
  {
   "cell_type": "code",
   "execution_count": null,
   "metadata": {},
   "outputs": [],
   "source": []
  }
 ],
 "metadata": {
  "kernelspec": {
   "display_name": "tf_env",
   "language": "python",
   "name": "tf_env"
  },
  "language_info": {
   "codemirror_mode": {
    "name": "ipython",
    "version": 3
   },
   "file_extension": ".py",
   "mimetype": "text/x-python",
   "name": "python",
   "nbconvert_exporter": "python",
   "pygments_lexer": "ipython3",
   "version": "3.7.4"
  }
 },
 "nbformat": 4,
 "nbformat_minor": 4
}
