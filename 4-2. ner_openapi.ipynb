{
 "cells": [
  {
   "cell_type": "code",
   "execution_count": 1,
   "metadata": {},
   "outputs": [],
   "source": [
    "import urllib3\n",
    "import json"
   ]
  },
  {
   "cell_type": "code",
   "execution_count": 2,
   "metadata": {},
   "outputs": [],
   "source": [
    "openApiURL = \"http://aiopen.etri.re.kr:8000/WiseNLU\"\n",
    "accessKey = \"4409fdbe-0408-48b6-9119-1cf24571a3b0\"\n",
    "analysisCode = \"ner\""
   ]
  },
  {
   "cell_type": "code",
   "execution_count": 3,
   "metadata": {},
   "outputs": [],
   "source": [
    "text = '스티브잡스가 미국 캘리포니아에 있는 스탠포드대학에서 졸업 연설을 했다'\n",
    "# text = '방탄소년단은 한국 가수 최초로 영국 웸블리 스타디움에서 공연을 했다'"
   ]
  },
  {
   "cell_type": "code",
   "execution_count": 4,
   "metadata": {},
   "outputs": [],
   "source": [
    " \n",
    "requestJson = {\n",
    "    \"access_key\": accessKey,\n",
    "    \"argument\": {\n",
    "        \"text\": text,\n",
    "        \"analysis_code\": analysisCode\n",
    "    }\n",
    "}\n",
    " \n",
    "http = urllib3.PoolManager()\n",
    "response = http.request(\n",
    "    \"POST\",\n",
    "    openApiURL,\n",
    "    headers={\"Content-Type\": \"application/json; charset=UTF-8\"},\n",
    "    body=json.dumps(requestJson)\n",
    ")"
   ]
  },
  {
   "cell_type": "code",
   "execution_count": 8,
   "metadata": {},
   "outputs": [
    {
     "data": {
      "text/plain": [
       "<bound method NDFrame.head of             entity_key                                        entity_name\n",
       "0        AFW_ART_CRAFT                                   [미술 작품명(그림/미술품)]\n",
       "1         AFW_DOCUMENT  [도서/서적 작품명, 지리서, 지도, 의학 관련 서적, 종교 서적, 각 종교의 경전...\n",
       "2            AFW_MUSIC                                           [음악 작품명]\n",
       "3      AFW_PERFORMANCE                       [춤/무용 작품명 및 춤 종류, 연극/공연명/가극]\n",
       "4            AFW_VIDEO                               [영화 작품명, TV 프로그램 이름]\n",
       "..                 ...                                                ...\n",
       "141        TR_MEDICINE                                 [의학 요법/처방, 의학 진단법]\n",
       "142          TR_OTHERS                                      [기타 이론/법칙/원리]\n",
       "143      TR_PHILOSOPHY                                         [철학 이론/사상]\n",
       "144         TR_SCIENCE                          [과학 관련 이론/법칙/방식/양식/체계/학설]\n",
       "145  TR_SOCIAL_SCIENCE                        [사회과학 이론/법칙/방법/원리/사상, 정치사상]\n",
       "\n",
       "[146 rows x 2 columns]>"
      ]
     },
     "execution_count": 8,
     "metadata": {},
     "output_type": "execute_result"
    }
   ],
   "source": [
    "import pandas as pd\n",
    "entity = pd.read_pickle('entity.pkl')\n",
    "entity.head"
   ]
  },
  {
   "cell_type": "code",
   "execution_count": 6,
   "metadata": {},
   "outputs": [],
   "source": [
    "def getEntity(key):\n",
    "    return entity[entity.entity_key==key].tail(1).values[0]"
   ]
  },
  {
   "cell_type": "code",
   "execution_count": 7,
   "metadata": {},
   "outputs": [
    {
     "name": "stdout",
     "output_type": "stream",
     "text": [
      "스티브잡스 PS_NAME ['PS_NAME' list(['사람 이름'])]\n",
      "미국 LCP_COUNTRY ['LCP_COUNTRY' list(['국가명'])]\n",
      "캘리포니아 LCP_PROVINCE ['LCP_PROVINCE' list(['도, 주 지역명'])]\n",
      "스탠포드대학 OGG_EDUCATION ['OGG_EDUCATION' list(['교육 기관/단체, 교육관련 기관'])]\n"
     ]
    }
   ],
   "source": [
    "rep_data = json.loads(str(response.data,\"utf-8\"))\n",
    "for ne in rep_data['return_object']['sentence'][0]['NE']:\n",
    "     print(ne['text'], ne['type'], getEntity(ne['type']))"
   ]
  },
  {
   "cell_type": "code",
   "execution_count": null,
   "metadata": {},
   "outputs": [],
   "source": []
  }
 ],
 "metadata": {
  "kernelspec": {
   "display_name": "tf_env",
   "language": "python",
   "name": "tf_env"
  },
  "language_info": {
   "codemirror_mode": {
    "name": "ipython",
    "version": 3
   },
   "file_extension": ".py",
   "mimetype": "text/x-python",
   "name": "python",
   "nbconvert_exporter": "python",
   "pygments_lexer": "ipython3",
   "version": "3.7.4"
  }
 },
 "nbformat": 4,
 "nbformat_minor": 4
}
