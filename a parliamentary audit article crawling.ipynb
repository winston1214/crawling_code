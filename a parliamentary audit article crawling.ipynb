{
 "cells": [
  {
   "cell_type": "code",
   "execution_count": 163,
   "metadata": {},
   "outputs": [],
   "source": [
    "import pandas as pd\n",
    "import time\n",
    "import warnings\n",
    "warnings.filterwarnings('ignore')"
   ]
  },
  {
   "cell_type": "code",
   "execution_count": 164,
   "metadata": {},
   "outputs": [],
   "source": [
    "from selenium.webdriver import Chrome"
   ]
  },
  {
   "cell_type": "code",
   "execution_count": 165,
   "metadata": {},
   "outputs": [],
   "source": [
    "from selenium import webdriver"
   ]
  },
  {
   "cell_type": "code",
   "execution_count": 166,
   "metadata": {},
   "outputs": [],
   "source": [
    "# https://news.sbs.co.kr/news/newsMain.do?plink=GNB&cooper=SBSNEWS"
   ]
  },
  {
   "cell_type": "code",
   "execution_count": 219,
   "metadata": {},
   "outputs": [],
   "source": [
    "options = webdriver.ChromeOptions()\n",
    "options.add_argument(\"--start-maximized\"); # 시작할때 최대창을 띄워라\n",
    "browser = webdriver.Chrome('chromedriver', options=options)"
   ]
  },
  {
   "cell_type": "markdown",
   "metadata": {},
   "source": [
    "# Naver news crawling"
   ]
  },
  {
   "cell_type": "markdown",
   "metadata": {},
   "source": [
    "- naver에 국정,국토 들어간 기사들만 찾음"
   ]
  },
  {
   "cell_type": "code",
   "execution_count": 220,
   "metadata": {},
   "outputs": [],
   "source": [
    "browser.get('https://search.naver.com/search.naver?where=news&query=%EA%B5%AD%EA%B0%90%2C%EA%B5%AD%ED%86%A0&sm=tab_opt&sort=0&photo=0&field=0&reporter_article=&pd=0&ds=&de=&docid=&nso=so%3Ar%2Cp%3Aall%2Ca%3Aall&mynews=1&refresh_start=0&related=0')"
   ]
  },
  {
   "cell_type": "code",
   "execution_count": 221,
   "metadata": {},
   "outputs": [],
   "source": [
    "browser.find_element_by_xpath('//*[@id=\"_search_option_btn\"]').click()"
   ]
  },
  {
   "cell_type": "code",
   "execution_count": 222,
   "metadata": {},
   "outputs": [],
   "source": [
    "browser.find_element_by_xpath('//*[@id=\"news_popup\"]/a').click()"
   ]
  },
  {
   "cell_type": "code",
   "execution_count": null,
   "metadata": {},
   "outputs": [],
   "source": [
    "# //*[@id=\"order_cat\"]/div[1]/ul/li[10]/label # label - 1"
   ]
  },
  {
   "cell_type": "code",
   "execution_count": 61,
   "metadata": {},
   "outputs": [
    {
     "data": {
      "text/plain": [
       "'경향신문'"
      ]
     },
     "execution_count": 61,
     "metadata": {},
     "output_type": "execute_result"
    }
   ],
   "source": [
    "browser.find_element_by_xpath('//*[@id=\"order_cat\"]/div[1]/ul/li[1]/label').text"
   ]
  },
  {
   "cell_type": "markdown",
   "metadata": {},
   "source": [
    "연합뉴스, KBS,MBC,SBS,JTBC,MBN,TV조선,채널A, 조선일보,중앙일보,동아일보,한겨레,경향,뉴시스,YTN,머니투데이,뉴스원,국민일보,한국경제,문화일보"
   ]
  },
  {
   "cell_type": "code",
   "execution_count": 223,
   "metadata": {},
   "outputs": [],
   "source": [
    "li = browser.find_element_by_xpath('//*[@id=\"order_cat\"]/div[1]/ul')\n",
    "\n",
    "newspaper = li.text.split('\\n')\n"
   ]
  },
  {
   "cell_type": "code",
   "execution_count": 224,
   "metadata": {},
   "outputs": [],
   "source": [
    "news = ['연합뉴스', 'KBS','MBC','SBS','JTBC','MBN','TV조선','채널A', '조선일보','중앙일보','동아일보','한겨레',\\\n",
    "        '경향신문','뉴시스','YTN','머니투데이','뉴스원','국민일보','한국경제','문화일보']"
   ]
  },
  {
   "cell_type": "code",
   "execution_count": 225,
   "metadata": {},
   "outputs": [],
   "source": [
    "num=[]\n",
    "for i in newspaper:\n",
    "    for j in news:\n",
    "        if i == j:\n",
    "            num.append(newspaper.index(i)+1)"
   ]
  },
  {
   "cell_type": "code",
   "execution_count": 226,
   "metadata": {},
   "outputs": [
    {
     "data": {
      "text/plain": [
       "[1, 2, 4, 6, 10, 11, 13]"
      ]
     },
     "execution_count": 226,
     "metadata": {},
     "output_type": "execute_result"
    }
   ],
   "source": [
    "num"
   ]
  },
  {
   "cell_type": "code",
   "execution_count": 227,
   "metadata": {},
   "outputs": [],
   "source": [
    "for i in num:\n",
    "    browser.find_element_by_xpath('//*[@id=\"order_cat\"]/div[1]/ul/li[{}]/label'.format(i)).click()"
   ]
  },
  {
   "cell_type": "code",
   "execution_count": 228,
   "metadata": {},
   "outputs": [
    {
     "data": {
      "text/plain": [
       "[13, 25, 30, 44, 46, 50, 54, 58, 64, 65]"
      ]
     },
     "execution_count": 228,
     "metadata": {},
     "output_type": "execute_result"
    }
   ],
   "source": [
    "li2  =browser.find_element_by_xpath('//*[@id=\"order_cat\"]/div[2]/ul')\n",
    "broad = li2.text.split('\\n')\n",
    "num2=[]\n",
    "for i in broad:\n",
    "    for j in news:\n",
    "        if i == j:\n",
    "            num2.append(broad.index(i)+1)\n",
    "num2 "
   ]
  },
  {
   "cell_type": "code",
   "execution_count": 229,
   "metadata": {},
   "outputs": [],
   "source": [
    "for i in num2:\n",
    "    browser.find_element_by_xpath('//*[@id=\"order_cat\"]/div[2]/ul/li[{}]/label'.format(i)).click() # 방송사"
   ]
  },
  {
   "cell_type": "markdown",
   "metadata": {},
   "source": [
    "- 날짜 지정"
   ]
  },
  {
   "cell_type": "code",
   "execution_count": 230,
   "metadata": {},
   "outputs": [],
   "source": [
    "browser.find_element_by_xpath('//*[@id=\"_nx_option_media\"]/div[2]/div[3]/button[1]/span').click()"
   ]
  },
  {
   "cell_type": "code",
   "execution_count": 231,
   "metadata": {},
   "outputs": [],
   "source": [
    "browser.find_element_by_xpath('//*[@id=\"snb\"]/div/ul/li[2]/a').click()"
   ]
  },
  {
   "cell_type": "code",
   "execution_count": 232,
   "metadata": {},
   "outputs": [],
   "source": [
    "browser.find_element_by_xpath('//*[@id=\"news_input_period_begin\"]').send_keys('2017.08.01')"
   ]
  },
  {
   "cell_type": "code",
   "execution_count": 233,
   "metadata": {},
   "outputs": [],
   "source": [
    "browser.find_element_by_xpath('//*[@id=\"_nx_option_date\"]/div[2]/div[1]/div[2]/a').click()# 오늘 날짜 1"
   ]
  },
  {
   "cell_type": "code",
   "execution_count": 235,
   "metadata": {},
   "outputs": [],
   "source": [
    "browser.find_element_by_xpath('/html/body/div[4]/p/a').click() # 오늘 날짜 2"
   ]
  },
  {
   "cell_type": "code",
   "execution_count": 236,
   "metadata": {},
   "outputs": [],
   "source": [
    "browser.find_element_by_xpath('//*[@id=\"_nx_option_date\"]/div[2]/span/button/span').click() # 적용"
   ]
  },
  {
   "cell_type": "code",
   "execution_count": 237,
   "metadata": {},
   "outputs": [],
   "source": [
    "browser.find_element_by_xpath('//*[@id=\"main_pack\"]/div/div[1]/div[3]/ul/li[2]/a').click()"
   ]
  },
  {
   "cell_type": "code",
   "execution_count": null,
   "metadata": {},
   "outputs": [],
   "source": [
    "# title"
   ]
  },
  {
   "cell_type": "code",
   "execution_count": 192,
   "metadata": {},
   "outputs": [],
   "source": [
    "browser.find_element_by_xpath('//*[@id=\"main_pack\"]/div/div[1]/div[3]/ul/li[2]/a').click()# 최신순"
   ]
  },
  {
   "cell_type": "code",
   "execution_count": 206,
   "metadata": {},
   "outputs": [
    {
     "data": {
      "text/plain": [
       "'MBC 2020.08.12. 네이버뉴스 보내기'"
      ]
     },
     "execution_count": 206,
     "metadata": {},
     "output_type": "execute_result"
    }
   ],
   "source": [
    "browser.find_element_by_xpath('//*[@id=\"sp_nws1\"]/dl/dd[1]').text"
   ]
  },
  {
   "cell_type": "code",
   "execution_count": 244,
   "metadata": {},
   "outputs": [],
   "source": [
    "df2= pd.DataFrame(columns = ['title','url','broad','date'])\n",
    "count = browser.find_element_by_xpath('//*[@id=\"main_pack\"]/div/div[1]/div[1]/span').text\n",
    "count = int(count.split('/')[1].strip().replace(',','').replace('건',''))\n",
    "for i in range(1,count+1):\n",
    "    try:\n",
    "        title = browser.find_element_by_xpath('//*[@id=\"sp_nws{}\"]/dl/dt/a'.format(i)).text\n",
    "        url = browser.find_element_by_xpath('//*[@id=\"sp_nws{}\"]/dl/dt/a'.format(i)).get_attribute('href')\n",
    "        tmp = browser.find_element_by_xpath('//*[@id=\"sp_nws{}\"]/dl/dd[1]'.format(i)).text\n",
    "        broad = tmp.split(' ')[0]\n",
    "        date = tmp.split(' ')[1] \n",
    "        \n",
    "        df2.loc[i,'title'] = title\n",
    "        df2.loc[i,'url'] = url\n",
    "        df2.loc[i,'broad'] = broad\n",
    "        df2.loc[i,'date'] = date\n",
    "        if (i ==10) : # 첫장만\n",
    "            browser.find_element_by_xpath( '//*[@id=\"main_pack\"]/div/div[2]/a[10]').click() # 다음 페이지\n",
    "        elif (i != 0 & i != 10 & i//10 >1):# 다음부턴 요거\n",
    "            browser.find_element_by_xpath( '//*[@id=\"main_pack\"]/div/div[2]/a[11]').click() # 2부턴 요거\n",
    "    except:\n",
    "         pass\n",
    "\n",
    "\n"
   ]
  },
  {
   "cell_type": "code",
   "execution_count": 247,
   "metadata": {},
   "outputs": [],
   "source": [
    "browser.quit()"
   ]
  }
 ],
 "metadata": {
  "kernelspec": {
   "display_name": "Python 3",
   "language": "python",
   "name": "python3"
  },
  "language_info": {
   "codemirror_mode": {
    "name": "ipython",
    "version": 3
   },
   "file_extension": ".py",
   "mimetype": "text/x-python",
   "name": "python",
   "nbconvert_exporter": "python",
   "pygments_lexer": "ipython3",
   "version": "3.7.1"
  }
 },
 "nbformat": 4,
 "nbformat_minor": 4
}
